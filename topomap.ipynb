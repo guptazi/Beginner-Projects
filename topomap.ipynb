{
 "cells": [
  {
   "cell_type": "code",
   "execution_count": 2,
   "id": "ad98b108-33ab-49f9-a07f-b4bc1d2b4f18",
   "metadata": {},
   "outputs": [],
   "source": [
    "import rasterio\n",
    "from rasterio.mask import mask\n",
    "import geopandas as gpd"
   ]
  },
  {
   "cell_type": "code",
   "execution_count": 31,
   "id": "813e0fb4-0efd-4a39-ad51-d6cf76a3df1a",
   "metadata": {},
   "outputs": [],
   "source": [
    "# Read the input shapefiles\n",
    "shapefile_path = \"X:\\\\mapping data\\\\UNDP_RESOURCE_MAPPING\\\\All_Data_files_to same_crs\\\\All_Wards.shp\"\n",
    "gdf = gpd.read_file(shapefile_path)\n",
    "\n",
    "# Filter by Palika\n",
    "filtered_palika = gdf[gdf[\"PALIKA\"] == \"Likhupike\"]\n",
    "\n",
    "# Filter by Ward\n",
    "\n",
    "selected_ward = filtered_palika[filtered_palika[\"WARD\"] == 5]\n"
   ]
  },
  {
   "cell_type": "code",
   "execution_count": 32,
   "id": "66d72aec-2034-4881-94e1-2f084971bd06",
   "metadata": {},
   "outputs": [],
   "source": [
    "\n",
    "# Load the raster dataset\n",
    "raster_path = \"X:\\\\mapping data\\\\UNDP_RESOURCE_MAPPING\\Municipality_Name\\\\Original_Data\\\\Topo_map\\\\Topomap_IWMP1.tif\"\n",
    "raster = rasterio.open(raster_path)\n",
    "\n",
    "\n",
    "# Get the geometry of the shapefile\n",
    "clip_geom = selected_ward.geometry.values[0]\n",
    "\n",
    "# Perform the clipping\n",
    "clipped, out_transform = mask(dataset=raster, shapes=[clip_geom], crop=True)\n",
    "\n",
    "# Get the metadata of the clipped raster\n",
    "clipped_meta = raster.meta\n",
    "clipped_meta.update({\n",
    "    'height': clipped.shape[1],\n",
    "    'width': clipped.shape[2],\n",
    "    'transform': out_transform\n",
    "})\n",
    "\n",
    "# Save the clipped raster to a new file\n",
    "clipped_path = \"X:\\\\mapping data\\\\UNDP_RESOURCE_MAPPING\\\\updated\\\\likhupike\\\\ward 5\\\\Topo Map\\\\topo_5.tif\"\n",
    "with rasterio.open(clipped_path, 'w', **clipped_meta) as dst:\n",
    "    dst.write(clipped)\n"
   ]
  },
  {
   "cell_type": "code",
   "execution_count": null,
   "id": "91e08b63-fd35-49af-87c4-6620dc93cf36",
   "metadata": {},
   "outputs": [],
   "source": []
  }
 ],
 "metadata": {
  "kernelspec": {
   "display_name": "Python 3 (ipykernel)",
   "language": "python",
   "name": "python3"
  },
  "language_info": {
   "codemirror_mode": {
    "name": "ipython",
    "version": 3
   },
   "file_extension": ".py",
   "mimetype": "text/x-python",
   "name": "python",
   "nbconvert_exporter": "python",
   "pygments_lexer": "ipython3",
   "version": "3.10.4"
  }
 },
 "nbformat": 4,
 "nbformat_minor": 5
}
