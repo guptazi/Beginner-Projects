{
 "cells": [
  {
   "cell_type": "code",
   "execution_count": 5,
   "id": "a8923527-3292-405e-97ea-0db8ad19c1a9",
   "metadata": {},
   "outputs": [],
   "source": [
    "\n",
    "import geopandas as gpd\n",
    "\n",
    "# Read the input shapefiles\n",
    "shapefile_path = \"X:\\\\mapping data\\\\UNDP_RESOURCE_MAPPING\\\\All_Data_files_to same_crs\\\\All_Wards.shp\"\n",
    "gdf = gpd.read_file(shapefile_path)\n",
    "\n",
    "\n",
    "\n",
    "\n"
   ]
  },
  {
   "cell_type": "code",
   "execution_count": 31,
   "id": "14933b89-1b73-42fc-a3f3-82987adfcc5c",
   "metadata": {},
   "outputs": [],
   "source": [
    "\n",
    "# Filter by Palika\n",
    "filtered_palika = gdf[gdf[\"PALIKA\"] == \"Likhupike\"]\n",
    "\n",
    "# Filter by Ward\n",
    "\n",
    "selected_ward = filtered_palika[filtered_palika[\"WARD\"] == 5]\n"
   ]
  },
  {
   "cell_type": "code",
   "execution_count": 7,
   "id": "1d71db07-f8b4-4c6c-9068-1be1ad03b80f",
   "metadata": {},
   "outputs": [],
   "source": [
    "\n",
    "\n",
    "\n",
    "input_file = gpd.read_file(\"X:\\\\mapping data\\\\UNDP_RESOURCE_MAPPING\\\\All_Data_files_to same_crs\\\\IWMP_landslide.shp\")\n",
    "\n",
    "                                       \n"
   ]
  },
  {
   "cell_type": "code",
   "execution_count": 32,
   "id": "9fbce1fd-6c0a-4009-bc77-33b77eb4f7e2",
   "metadata": {},
   "outputs": [
    {
     "name": "stderr",
     "output_type": "stream",
     "text": [
      "C:\\Users\\Shuhb.000\\AppData\\Local\\Programs\\Python\\Python310\\lib\\site-packages\\geopandas\\io\\file.py:545: UserWarning: You are attempting to write an empty DataFrame to file. For some drivers, this operation may fail.\n",
      "  _to_file_fiona(df, filename, driver, schema, crs, mode, **kwargs)\n"
     ]
    }
   ],
   "source": [
    "# Perform the clip operation\n",
    "clipped_data = gpd.clip(input_file, selected_ward)\n",
    "\n",
    "# Save the clipped shapefile to a new file\n",
    "clipped_data.to_file(\"X:\\\\mapping data\\\\UNDP_RESOURCE_MAPPING\\\\updated\\\\likhupike\\\\ward 5\\\\landlside_inventory\\\\landlside_5.shp\")"
   ]
  },
  {
   "cell_type": "code",
   "execution_count": null,
   "id": "8e707f45-b82e-4dae-aa7c-5000f41721b4",
   "metadata": {},
   "outputs": [],
   "source": []
  }
 ],
 "metadata": {
  "kernelspec": {
   "display_name": "Python 3 (ipykernel)",
   "language": "python",
   "name": "python3"
  },
  "language_info": {
   "codemirror_mode": {
    "name": "ipython",
    "version": 3
   },
   "file_extension": ".py",
   "mimetype": "text/x-python",
   "name": "python",
   "nbconvert_exporter": "python",
   "pygments_lexer": "ipython3",
   "version": "3.10.4"
  }
 },
 "nbformat": 4,
 "nbformat_minor": 5
}
