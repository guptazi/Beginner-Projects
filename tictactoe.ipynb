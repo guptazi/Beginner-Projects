{
 "cells": [
  {
   "cell_type": "code",
   "execution_count": 71,
   "metadata": {},
   "outputs": [],
   "source": [
    "from IPython.display import clear_output\n",
    "# defining function to print the 3x3 game board\n",
    "def display_board(board):\n",
    "    clear_output() # to clear the output\n",
    "    print(board[1]+'|'+board[2]+'|'+board[3])\n",
    "    print(board[4]+'|'+board[5]+'|'+board[6])\n",
    "    print(board[7]+'|'+board[9]+'|'+board[9])\n"
   ]
  },
  {
   "cell_type": "code",
   "execution_count": 72,
   "metadata": {},
   "outputs": [],
   "source": [
    "# defining a input function to check X or O and stroing the input\n",
    "def player_input():\n",
    "    marker=input('Enter X or O').upper()\n",
    "    while marker=='X' or marker=='O':\n",
    "        \n",
    "        if marker=='X':\n",
    "            return ('X','O')\n",
    "        else:\n",
    "            return ('O','X')\n"
   ]
  },
  {
   "cell_type": "code",
   "execution_count": 73,
   "metadata": {},
   "outputs": [],
   "source": [
    "#defining a function to place marker on a particular position \n",
    "def marker_place(board,position,mark):\n",
    "    board[int (position)]=mark"
   ]
  },
  {
   "cell_type": "code",
   "execution_count": 74,
   "metadata": {},
   "outputs": [],
   "source": [
    "# checking whether the player has won\n",
    "def win_check(board,mark):\n",
    "    return(\n",
    "        (board[1]==board[2]==board[3]==mark) or \n",
    "        (board[4]==board[5]==board[6]==mark) or\n",
    "        (board[7]==board[8]==board[9]==mark) or\n",
    "        (board[1]==board[4]==board[7]==mark) or\n",
    "        (board[2]==board[5]==board[8]==mark) or\n",
    "        (board[3]==board[6]==board[9]==mark) or\n",
    "        (board[1]==board[5]==board[9]==mark) or\n",
    "        (board[3]==board[5]==board[7]==mark)\n",
    "    )"
   ]
  },
  {
   "cell_type": "code",
   "execution_count": 75,
   "metadata": {},
   "outputs": [],
   "source": [
    "# defining function to select random player who plays the first game\n",
    "import random\n",
    "def first_play():\n",
    "    flip=random.randint(0,1)\n",
    "    if flip==1:\n",
    "        return 'Player 1'\n",
    "    else:\n",
    "        return 'Player 2'"
   ]
  },
  {
   "cell_type": "code",
   "execution_count": 76,
   "metadata": {},
   "outputs": [],
   "source": [
    "#checking free sapce in the board\n",
    "def free_space(board,position):\n",
    "    return board[position]==''"
   ]
  },
  {
   "cell_type": "code",
   "execution_count": 77,
   "metadata": {},
   "outputs": [],
   "source": [
    "#checking all the board for free space\n",
    "def full_board_check(board):\n",
    "    if free_space:\n",
    "        return False\n",
    "    else:\n",
    "        return True\n",
    "# if free space is available the True is returned"
   ]
  },
  {
   "cell_type": "code",
   "execution_count": 78,
   "metadata": {},
   "outputs": [],
   "source": [
    "# player choice entering value\n",
    "def player_choice(board):\n",
    "    position=0\n",
    "    if position not in range(1,10) and free_space(board,position):\n",
    "        position=int(input('Enter Position (0,9) '))\n",
    "    return position\n"
   ]
  },
  {
   "cell_type": "code",
   "execution_count": 79,
   "metadata": {},
   "outputs": [],
   "source": [
    "#Play again function\n",
    "def play_again():\n",
    "    response=input('Enter y or n').upper()\n",
    "\n",
    "    return response=='Y'\n"
   ]
  },
  {
   "cell_type": "code",
   "execution_count": 80,
   "metadata": {},
   "outputs": [
    {
     "name": "stdout",
     "output_type": "stream",
     "text": [
      " Welcome to the Tic Tac Toe Game\n"
     ]
    }
   ],
   "source": [
    "print(' Welcome to the Tic Tac Toe Game')\n",
    "while True:\n",
    "    the_board=[' ']*10\n",
    "    player1_marker,player2_marker=player_input()\n",
    "    turn =first_play()\n",
    "    print(turn+'Plays First')\n",
    "\n",
    "    ready=input('Ready to Play Game y or n ').upper()\n",
    "    if ready=='Y':\n",
    "        game_on=True\n",
    "    else:\n",
    "        game_on=False\n",
    "    \n",
    "    while game_on:\n",
    "        if turn=='Player 1':\n",
    "            #show the board\n",
    "            display_board(the_board)\n",
    "            #choose position\n",
    "            position=player_choice(the_board)\n",
    "\n",
    "            #place the marker on that position\n",
    "            marker_place(the_board,position,player1_marker)\n",
    "\n",
    "\n",
    "            #check win\n",
    "            if win_check(the_board,player1_marker):\n",
    "                display_board(the_board)\n",
    "                print('Player 1 has won')\n",
    "                game_on=False\n",
    "            else: \n",
    "                if full_board_check(the_board):\n",
    "                    display_board(the_board)\n",
    "                    print('TIE GAME !!!')\n",
    "                    game_on=False\n",
    "                else: \n",
    "                    turn='Player 2'\n",
    "\n",
    "            #no tie and no win\n",
    "\n",
    "\n",
    "        else:\n",
    "               #show the board\n",
    "            display_board(the_board)\n",
    "            #choose position\n",
    "            position=player_choice(the_board)\n",
    "\n",
    "            #place the marker on that position\n",
    "            marker_place(the_board,position,player2_marker)\n",
    "\n",
    "\n",
    "            #check win\n",
    "            if win_check(the_board,player2_marker):\n",
    "                display_board(the_board)\n",
    "                print('Player 2 has won')\n",
    "                game_on=False\n",
    "            else: \n",
    "                if full_board_check(the_board):\n",
    "                    display_board(the_board)\n",
    "                    print('TIE GAME !!!')\n",
    "                    game_on=False\n",
    "                else: \n",
    "                    turn='Player 1'\n",
    "    if not play_again():\n",
    "        break\n"
   ]
  },
  {
   "cell_type": "code",
   "execution_count": null,
   "metadata": {},
   "outputs": [],
   "source": []
  }
 ],
 "metadata": {
  "kernelspec": {
   "display_name": "Python 3.10.4 64-bit",
   "language": "python",
   "name": "python3"
  },
  "language_info": {
   "codemirror_mode": {
    "name": "ipython",
    "version": 3
   },
   "file_extension": ".py",
   "mimetype": "text/x-python",
   "name": "python",
   "nbconvert_exporter": "python",
   "pygments_lexer": "ipython3",
   "version": "3.10.4"
  },
  "orig_nbformat": 4,
  "vscode": {
   "interpreter": {
    "hash": "9b2fc597ab60fa91397d2c76e282e148bbee98b8d2bfc66c98d1fff4c7d8824e"
   }
  }
 },
 "nbformat": 4,
 "nbformat_minor": 2
}
