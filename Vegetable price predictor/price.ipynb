{
 "cells": [
  {
   "cell_type": "code",
   "execution_count": 150,
   "metadata": {},
   "outputs": [],
   "source": [
    "import numpy as np\n",
    "import matplotlib"
   ]
  },
  {
   "cell_type": "code",
   "execution_count": 151,
   "metadata": {},
   "outputs": [],
   "source": [
    "import seaborn as sns"
   ]
  },
  {
   "cell_type": "code",
   "execution_count": 152,
   "metadata": {},
   "outputs": [],
   "source": [
    "import pandas as pd"
   ]
  },
  {
   "cell_type": "code",
   "execution_count": 153,
   "metadata": {},
   "outputs": [],
   "source": [
    "df = pd.read_csv('price.csv')"
   ]
  },
  {
   "cell_type": "code",
   "execution_count": 154,
   "metadata": {},
   "outputs": [
    {
     "data": {
      "text/html": [
       "<div>\n",
       "<style scoped>\n",
       "    .dataframe tbody tr th:only-of-type {\n",
       "        vertical-align: middle;\n",
       "    }\n",
       "\n",
       "    .dataframe tbody tr th {\n",
       "        vertical-align: top;\n",
       "    }\n",
       "\n",
       "    .dataframe thead th {\n",
       "        text-align: right;\n",
       "    }\n",
       "</style>\n",
       "<table border=\"1\" class=\"dataframe\">\n",
       "  <thead>\n",
       "    <tr style=\"text-align: right;\">\n",
       "      <th></th>\n",
       "      <th>_id</th>\n",
       "      <th>SN</th>\n",
       "      <th>Commodity</th>\n",
       "      <th>Date</th>\n",
       "      <th>Unit</th>\n",
       "      <th>Minimum</th>\n",
       "      <th>Maximum</th>\n",
       "      <th>Average</th>\n",
       "    </tr>\n",
       "  </thead>\n",
       "  <tbody>\n",
       "    <tr>\n",
       "      <th>0</th>\n",
       "      <td>1</td>\n",
       "      <td>0</td>\n",
       "      <td>Tomato Big(Nepali)</td>\n",
       "      <td>2013-06-16T00:00:00</td>\n",
       "      <td>Kg</td>\n",
       "      <td>35</td>\n",
       "      <td>40</td>\n",
       "      <td>37.5</td>\n",
       "    </tr>\n",
       "    <tr>\n",
       "      <th>1</th>\n",
       "      <td>2</td>\n",
       "      <td>1</td>\n",
       "      <td>Tomato Small(Local)</td>\n",
       "      <td>2013-06-16T00:00:00</td>\n",
       "      <td>Kg</td>\n",
       "      <td>26</td>\n",
       "      <td>32</td>\n",
       "      <td>29.0</td>\n",
       "    </tr>\n",
       "    <tr>\n",
       "      <th>2</th>\n",
       "      <td>3</td>\n",
       "      <td>2</td>\n",
       "      <td>Potato Red</td>\n",
       "      <td>2013-06-16T00:00:00</td>\n",
       "      <td>Kg</td>\n",
       "      <td>20</td>\n",
       "      <td>21</td>\n",
       "      <td>20.5</td>\n",
       "    </tr>\n",
       "    <tr>\n",
       "      <th>3</th>\n",
       "      <td>4</td>\n",
       "      <td>3</td>\n",
       "      <td>Potato White</td>\n",
       "      <td>2013-06-16T00:00:00</td>\n",
       "      <td>Kg</td>\n",
       "      <td>15</td>\n",
       "      <td>16</td>\n",
       "      <td>15.5</td>\n",
       "    </tr>\n",
       "    <tr>\n",
       "      <th>4</th>\n",
       "      <td>5</td>\n",
       "      <td>4</td>\n",
       "      <td>Onion Dry (Indian)</td>\n",
       "      <td>2013-06-16T00:00:00</td>\n",
       "      <td>Kg</td>\n",
       "      <td>28</td>\n",
       "      <td>30</td>\n",
       "      <td>29.0</td>\n",
       "    </tr>\n",
       "    <tr>\n",
       "      <th>...</th>\n",
       "      <td>...</td>\n",
       "      <td>...</td>\n",
       "      <td>...</td>\n",
       "      <td>...</td>\n",
       "      <td>...</td>\n",
       "      <td>...</td>\n",
       "      <td>...</td>\n",
       "      <td>...</td>\n",
       "    </tr>\n",
       "    <tr>\n",
       "      <th>197156</th>\n",
       "      <td>197157</td>\n",
       "      <td>197156</td>\n",
       "      <td>Garlic Dry Nepali</td>\n",
       "      <td>2021-05-13T00:00:00</td>\n",
       "      <td>Kg</td>\n",
       "      <td>100</td>\n",
       "      <td>120</td>\n",
       "      <td>110.0</td>\n",
       "    </tr>\n",
       "    <tr>\n",
       "      <th>197157</th>\n",
       "      <td>197158</td>\n",
       "      <td>197157</td>\n",
       "      <td>Fish Fresh(Rahu)</td>\n",
       "      <td>2021-05-13T00:00:00</td>\n",
       "      <td>KG</td>\n",
       "      <td>270</td>\n",
       "      <td>280</td>\n",
       "      <td>275.0</td>\n",
       "    </tr>\n",
       "    <tr>\n",
       "      <th>197158</th>\n",
       "      <td>197159</td>\n",
       "      <td>197158</td>\n",
       "      <td>Fish Fresh(Bachuwa)</td>\n",
       "      <td>2021-05-13T00:00:00</td>\n",
       "      <td>KG</td>\n",
       "      <td>225</td>\n",
       "      <td>235</td>\n",
       "      <td>230.0</td>\n",
       "    </tr>\n",
       "    <tr>\n",
       "      <th>197159</th>\n",
       "      <td>197160</td>\n",
       "      <td>197159</td>\n",
       "      <td>Fish Fresh(Chhadi)</td>\n",
       "      <td>2021-05-13T00:00:00</td>\n",
       "      <td>KG</td>\n",
       "      <td>220</td>\n",
       "      <td>230</td>\n",
       "      <td>225.0</td>\n",
       "    </tr>\n",
       "    <tr>\n",
       "      <th>197160</th>\n",
       "      <td>197161</td>\n",
       "      <td>197160</td>\n",
       "      <td>Fish Fresh(Mungari)</td>\n",
       "      <td>2021-05-13T00:00:00</td>\n",
       "      <td>KG</td>\n",
       "      <td>240</td>\n",
       "      <td>250</td>\n",
       "      <td>245.0</td>\n",
       "    </tr>\n",
       "  </tbody>\n",
       "</table>\n",
       "<p>197161 rows × 8 columns</p>\n",
       "</div>"
      ],
      "text/plain": [
       "           _id      SN            Commodity                 Date Unit  \\\n",
       "0            1       0   Tomato Big(Nepali)  2013-06-16T00:00:00   Kg   \n",
       "1            2       1  Tomato Small(Local)  2013-06-16T00:00:00   Kg   \n",
       "2            3       2           Potato Red  2013-06-16T00:00:00   Kg   \n",
       "3            4       3         Potato White  2013-06-16T00:00:00   Kg   \n",
       "4            5       4   Onion Dry (Indian)  2013-06-16T00:00:00   Kg   \n",
       "...        ...     ...                  ...                  ...  ...   \n",
       "197156  197157  197156    Garlic Dry Nepali  2021-05-13T00:00:00   Kg   \n",
       "197157  197158  197157     Fish Fresh(Rahu)  2021-05-13T00:00:00   KG   \n",
       "197158  197159  197158  Fish Fresh(Bachuwa)  2021-05-13T00:00:00   KG   \n",
       "197159  197160  197159   Fish Fresh(Chhadi)  2021-05-13T00:00:00   KG   \n",
       "197160  197161  197160  Fish Fresh(Mungari)  2021-05-13T00:00:00   KG   \n",
       "\n",
       "        Minimum  Maximum  Average  \n",
       "0            35       40     37.5  \n",
       "1            26       32     29.0  \n",
       "2            20       21     20.5  \n",
       "3            15       16     15.5  \n",
       "4            28       30     29.0  \n",
       "...         ...      ...      ...  \n",
       "197156      100      120    110.0  \n",
       "197157      270      280    275.0  \n",
       "197158      225      235    230.0  \n",
       "197159      220      230    225.0  \n",
       "197160      240      250    245.0  \n",
       "\n",
       "[197161 rows x 8 columns]"
      ]
     },
     "execution_count": 154,
     "metadata": {},
     "output_type": "execute_result"
    }
   ],
   "source": [
    "df"
   ]
  },
  {
   "cell_type": "code",
   "execution_count": 155,
   "metadata": {},
   "outputs": [
    {
     "name": "stdout",
     "output_type": "stream",
     "text": [
      "<class 'pandas.core.frame.DataFrame'>\n",
      "RangeIndex: 197161 entries, 0 to 197160\n",
      "Data columns (total 8 columns):\n",
      " #   Column     Non-Null Count   Dtype  \n",
      "---  ------     --------------   -----  \n",
      " 0   _id        197161 non-null  int64  \n",
      " 1   SN         197161 non-null  int64  \n",
      " 2   Commodity  197161 non-null  object \n",
      " 3   Date       197161 non-null  object \n",
      " 4   Unit       197161 non-null  object \n",
      " 5   Minimum    197161 non-null  int64  \n",
      " 6   Maximum    197161 non-null  int64  \n",
      " 7   Average    197161 non-null  float64\n",
      "dtypes: float64(1), int64(4), object(3)\n",
      "memory usage: 12.0+ MB\n"
     ]
    }
   ],
   "source": [
    "df.info()"
   ]
  },
  {
   "cell_type": "code",
   "execution_count": 156,
   "metadata": {},
   "outputs": [
    {
     "data": {
      "text/plain": [
       "_id          0\n",
       "SN           0\n",
       "Commodity    0\n",
       "Date         0\n",
       "Unit         0\n",
       "Minimum      0\n",
       "Maximum      0\n",
       "Average      0\n",
       "dtype: int64"
      ]
     },
     "execution_count": 156,
     "metadata": {},
     "output_type": "execute_result"
    }
   ],
   "source": [
    "df.isnull().sum()"
   ]
  },
  {
   "cell_type": "code",
   "execution_count": 157,
   "metadata": {},
   "outputs": [
    {
     "data": {
      "text/plain": [
       "Index(['_id', 'SN', 'Commodity', 'Date', 'Unit', 'Minimum', 'Maximum',\n",
       "       'Average'],\n",
       "      dtype='object')"
      ]
     },
     "execution_count": 157,
     "metadata": {},
     "output_type": "execute_result"
    }
   ],
   "source": [
    "df.columns"
   ]
  },
  {
   "cell_type": "code",
   "execution_count": 158,
   "metadata": {},
   "outputs": [],
   "source": [
    "newdata=df.copy()"
   ]
  },
  {
   "cell_type": "code",
   "execution_count": 159,
   "metadata": {},
   "outputs": [
    {
     "data": {
      "text/plain": [
       "'2013-06-16T00:00:00'"
      ]
     },
     "execution_count": 159,
     "metadata": {},
     "output_type": "execute_result"
    }
   ],
   "source": [
    "newdata[\"Date\"][50]"
   ]
  },
  {
   "cell_type": "code",
   "execution_count": 160,
   "metadata": {},
   "outputs": [
    {
     "name": "stdout",
     "output_type": "stream",
     "text": [
      "2013-06-16 00:00:00\n"
     ]
    }
   ],
   "source": [
    "#splitting date\n",
    "newdata[\"Date\"] = pd.to_datetime(newdata[\"Date\"])\n",
    "str =newdata[\"Date\"][1]\n",
    "print(str)"
   ]
  },
  {
   "cell_type": "code",
   "execution_count": 161,
   "metadata": {},
   "outputs": [
    {
     "name": "stdout",
     "output_type": "stream",
     "text": [
      "{1: 'Jaunary', 2: 'February', 3: 'March', 4: 'April', 5: 'May', 6: 'Jnue', 7: 'July', 8: 'August', 9: 'September', 10: 'October', 11: 'November', 12: 'December'}\n"
     ]
    }
   ],
   "source": [
    "dict = {1:'Jaunary',2:'February',3:'March',4:'April',5:'May',6:'Jnue',7:'July',8:'August',9:'September',10:'October',11:'November',12:'December'}\n",
    "print(dict)"
   ]
  },
  {
   "cell_type": "code",
   "execution_count": 162,
   "metadata": {},
   "outputs": [
    {
     "data": {
      "text/html": [
       "<div>\n",
       "<style scoped>\n",
       "    .dataframe tbody tr th:only-of-type {\n",
       "        vertical-align: middle;\n",
       "    }\n",
       "\n",
       "    .dataframe tbody tr th {\n",
       "        vertical-align: top;\n",
       "    }\n",
       "\n",
       "    .dataframe thead th {\n",
       "        text-align: right;\n",
       "    }\n",
       "</style>\n",
       "<table border=\"1\" class=\"dataframe\">\n",
       "  <thead>\n",
       "    <tr style=\"text-align: right;\">\n",
       "      <th></th>\n",
       "      <th>_id</th>\n",
       "      <th>SN</th>\n",
       "      <th>Commodity</th>\n",
       "      <th>Date</th>\n",
       "      <th>Unit</th>\n",
       "      <th>Minimum</th>\n",
       "      <th>Maximum</th>\n",
       "      <th>Average</th>\n",
       "      <th>month</th>\n",
       "      <th>day</th>\n",
       "    </tr>\n",
       "  </thead>\n",
       "  <tbody>\n",
       "    <tr>\n",
       "      <th>0</th>\n",
       "      <td>1</td>\n",
       "      <td>0</td>\n",
       "      <td>Tomato Big(Nepali)</td>\n",
       "      <td>2013-06-16</td>\n",
       "      <td>Kg</td>\n",
       "      <td>35</td>\n",
       "      <td>40</td>\n",
       "      <td>37.5</td>\n",
       "      <td>6</td>\n",
       "      <td>16</td>\n",
       "    </tr>\n",
       "    <tr>\n",
       "      <th>1</th>\n",
       "      <td>2</td>\n",
       "      <td>1</td>\n",
       "      <td>Tomato Small(Local)</td>\n",
       "      <td>2013-06-16</td>\n",
       "      <td>Kg</td>\n",
       "      <td>26</td>\n",
       "      <td>32</td>\n",
       "      <td>29.0</td>\n",
       "      <td>6</td>\n",
       "      <td>16</td>\n",
       "    </tr>\n",
       "    <tr>\n",
       "      <th>2</th>\n",
       "      <td>3</td>\n",
       "      <td>2</td>\n",
       "      <td>Potato Red</td>\n",
       "      <td>2013-06-16</td>\n",
       "      <td>Kg</td>\n",
       "      <td>20</td>\n",
       "      <td>21</td>\n",
       "      <td>20.5</td>\n",
       "      <td>6</td>\n",
       "      <td>16</td>\n",
       "    </tr>\n",
       "    <tr>\n",
       "      <th>3</th>\n",
       "      <td>4</td>\n",
       "      <td>3</td>\n",
       "      <td>Potato White</td>\n",
       "      <td>2013-06-16</td>\n",
       "      <td>Kg</td>\n",
       "      <td>15</td>\n",
       "      <td>16</td>\n",
       "      <td>15.5</td>\n",
       "      <td>6</td>\n",
       "      <td>16</td>\n",
       "    </tr>\n",
       "    <tr>\n",
       "      <th>4</th>\n",
       "      <td>5</td>\n",
       "      <td>4</td>\n",
       "      <td>Onion Dry (Indian)</td>\n",
       "      <td>2013-06-16</td>\n",
       "      <td>Kg</td>\n",
       "      <td>28</td>\n",
       "      <td>30</td>\n",
       "      <td>29.0</td>\n",
       "      <td>6</td>\n",
       "      <td>16</td>\n",
       "    </tr>\n",
       "    <tr>\n",
       "      <th>...</th>\n",
       "      <td>...</td>\n",
       "      <td>...</td>\n",
       "      <td>...</td>\n",
       "      <td>...</td>\n",
       "      <td>...</td>\n",
       "      <td>...</td>\n",
       "      <td>...</td>\n",
       "      <td>...</td>\n",
       "      <td>...</td>\n",
       "      <td>...</td>\n",
       "    </tr>\n",
       "    <tr>\n",
       "      <th>197156</th>\n",
       "      <td>197157</td>\n",
       "      <td>197156</td>\n",
       "      <td>Garlic Dry Nepali</td>\n",
       "      <td>2021-05-13</td>\n",
       "      <td>Kg</td>\n",
       "      <td>100</td>\n",
       "      <td>120</td>\n",
       "      <td>110.0</td>\n",
       "      <td>5</td>\n",
       "      <td>13</td>\n",
       "    </tr>\n",
       "    <tr>\n",
       "      <th>197157</th>\n",
       "      <td>197158</td>\n",
       "      <td>197157</td>\n",
       "      <td>Fish Fresh(Rahu)</td>\n",
       "      <td>2021-05-13</td>\n",
       "      <td>KG</td>\n",
       "      <td>270</td>\n",
       "      <td>280</td>\n",
       "      <td>275.0</td>\n",
       "      <td>5</td>\n",
       "      <td>13</td>\n",
       "    </tr>\n",
       "    <tr>\n",
       "      <th>197158</th>\n",
       "      <td>197159</td>\n",
       "      <td>197158</td>\n",
       "      <td>Fish Fresh(Bachuwa)</td>\n",
       "      <td>2021-05-13</td>\n",
       "      <td>KG</td>\n",
       "      <td>225</td>\n",
       "      <td>235</td>\n",
       "      <td>230.0</td>\n",
       "      <td>5</td>\n",
       "      <td>13</td>\n",
       "    </tr>\n",
       "    <tr>\n",
       "      <th>197159</th>\n",
       "      <td>197160</td>\n",
       "      <td>197159</td>\n",
       "      <td>Fish Fresh(Chhadi)</td>\n",
       "      <td>2021-05-13</td>\n",
       "      <td>KG</td>\n",
       "      <td>220</td>\n",
       "      <td>230</td>\n",
       "      <td>225.0</td>\n",
       "      <td>5</td>\n",
       "      <td>13</td>\n",
       "    </tr>\n",
       "    <tr>\n",
       "      <th>197160</th>\n",
       "      <td>197161</td>\n",
       "      <td>197160</td>\n",
       "      <td>Fish Fresh(Mungari)</td>\n",
       "      <td>2021-05-13</td>\n",
       "      <td>KG</td>\n",
       "      <td>240</td>\n",
       "      <td>250</td>\n",
       "      <td>245.0</td>\n",
       "      <td>5</td>\n",
       "      <td>13</td>\n",
       "    </tr>\n",
       "  </tbody>\n",
       "</table>\n",
       "<p>197161 rows × 10 columns</p>\n",
       "</div>"
      ],
      "text/plain": [
       "           _id      SN            Commodity       Date Unit  Minimum  Maximum  \\\n",
       "0            1       0   Tomato Big(Nepali) 2013-06-16   Kg       35       40   \n",
       "1            2       1  Tomato Small(Local) 2013-06-16   Kg       26       32   \n",
       "2            3       2           Potato Red 2013-06-16   Kg       20       21   \n",
       "3            4       3         Potato White 2013-06-16   Kg       15       16   \n",
       "4            5       4   Onion Dry (Indian) 2013-06-16   Kg       28       30   \n",
       "...        ...     ...                  ...        ...  ...      ...      ...   \n",
       "197156  197157  197156    Garlic Dry Nepali 2021-05-13   Kg      100      120   \n",
       "197157  197158  197157     Fish Fresh(Rahu) 2021-05-13   KG      270      280   \n",
       "197158  197159  197158  Fish Fresh(Bachuwa) 2021-05-13   KG      225      235   \n",
       "197159  197160  197159   Fish Fresh(Chhadi) 2021-05-13   KG      220      230   \n",
       "197160  197161  197160  Fish Fresh(Mungari) 2021-05-13   KG      240      250   \n",
       "\n",
       "        Average  month  day  \n",
       "0          37.5      6   16  \n",
       "1          29.0      6   16  \n",
       "2          20.5      6   16  \n",
       "3          15.5      6   16  \n",
       "4          29.0      6   16  \n",
       "...         ...    ...  ...  \n",
       "197156    110.0      5   13  \n",
       "197157    275.0      5   13  \n",
       "197158    230.0      5   13  \n",
       "197159    225.0      5   13  \n",
       "197160    245.0      5   13  \n",
       "\n",
       "[197161 rows x 10 columns]"
      ]
     },
     "execution_count": 162,
     "metadata": {},
     "output_type": "execute_result"
    }
   ],
   "source": [
    "newdata[\"month\"]=newdata[\"Date\"].dt.month\n",
    "newdata[\"day\"]=newdata[\"Date\"].dt.day\n",
    "newdata"
   ]
  },
  {
   "cell_type": "code",
   "execution_count": 163,
   "metadata": {},
   "outputs": [],
   "source": [
    "newdata=newdata.head(100000)"
   ]
  },
  {
   "cell_type": "code",
   "execution_count": 164,
   "metadata": {},
   "outputs": [
    {
     "data": {
      "text/plain": [
       "(100000, 10)"
      ]
     },
     "execution_count": 164,
     "metadata": {},
     "output_type": "execute_result"
    },
    {
     "data": {
      "image/png": "[encoded data removed]",
      "text/plain": [
       "<Figure size 640x480 with 1 Axes>"
      ]
     },
     "metadata": {},
     "output_type": "display_data"
    }
   ],
   "source": [
    "#useing box plot\n",
    "sns.boxplot(newdata['Average'])\n",
    "newdata.shape"
   ]
  },
  {
   "cell_type": "code",
   "execution_count": 165,
   "metadata": {},
   "outputs": [],
   "source": [
    "\n",
    "q_low = newdata[\"Average\"].quantile(0.25)\n",
    "q_hi  = newdata[\"Average\"].quantile(0.75)\n",
    "\n",
    "newdata_filtered = newdata[(newdata[\"Average\"] < q_hi) & (newdata[\"Average\"] > q_low)]"
   ]
  },
  {
   "cell_type": "code",
   "execution_count": 172,
   "metadata": {},
   "outputs": [
    {
     "data": {
      "text/plain": [
       "<AxesSubplot: >"
      ]
     },
     "execution_count": 172,
     "metadata": {},
     "output_type": "execute_result"
    },
    {
     "data": {
      "image/png": "[encoded data removed]",
      "text/plain": [
       "<Figure size 640x480 with 1 Axes>"
      ]
     },
     "metadata": {},
     "output_type": "display_data"
    }
   ],
   "source": [
    "import matplotlib\n",
    "sns.boxplot(newdata_filtered)"
   ]
  },
  {
   "cell_type": "code",
   "execution_count": 173,
   "metadata": {},
   "outputs": [],
   "source": [
    "mod_data=newdata_filtered.copy()"
   ]
  },
  {
   "cell_type": "code",
   "execution_count": 174,
   "metadata": {},
   "outputs": [
    {
     "data": {
      "text/plain": [
       "Index(['_id', 'SN', 'Commodity', 'Date', 'Unit', 'Minimum', 'Maximum',\n",
       "       'Average', 'month', 'day'],\n",
       "      dtype='object')"
      ]
     },
     "execution_count": 174,
     "metadata": {},
     "output_type": "execute_result"
    }
   ],
   "source": [
    "mod_data.columns"
   ]
  },
  {
   "cell_type": "code",
   "execution_count": 175,
   "metadata": {},
   "outputs": [],
   "source": [
    "import plotly.express as px"
   ]
  },
  {
   "cell_type": "code",
   "execution_count": 176,
   "metadata": {},
   "outputs": [
    {
     "data": {
      "text/plain": [
       "<seaborn.axisgrid.FacetGrid at 0x23bd0ff5bd0>"
      ]
     },
     "execution_count": 176,
     "metadata": {},
     "output_type": "execute_result"
    },
    {
     "data": {
      "image/png": "[encoded data removed]",
      "text/plain": [
       "<Figure size 500x500 with 1 Axes>"
      ]
     },
     "metadata": {},
     "output_type": "display_data"
    }
   ],
   "source": [
    "sns.relplot(data=df, x=\"Commodity\", y=\"Average\",kind=\"line\")"
   ]
  },
  {
   "cell_type": "code",
   "execution_count": null,
   "metadata": {},
   "outputs": [],
   "source": []
  }
 ],
 "metadata": {
  "kernelspec": {
   "display_name": "Python 3.10.4 64-bit",
   "language": "python",
   "name": "python3"
  },
  "language_info": {
   "codemirror_mode": {
    "name": "ipython",
    "version": 3
   },
   "file_extension": ".py",
   "mimetype": "text/x-python",
   "name": "python",
   "nbconvert_exporter": "python",
   "pygments_lexer": "ipython3",
   "version": "3.10.4"
  },
  "orig_nbformat": 4,
  "vscode": {
   "interpreter": {
    "hash": "9b2fc597ab60fa91397d2c76e282e148bbee98b8d2bfc66c98d1fff4c7d8824e"
   }
  }
 },
 "nbformat": 4,
 "nbformat_minor": 2
}
